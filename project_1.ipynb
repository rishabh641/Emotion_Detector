{
  "nbformat": 4,
  "nbformat_minor": 0,
  "metadata": {
    "colab": {
      "name": "project 1.ipynb",
      "provenance": []
    },
    "kernelspec": {
      "name": "python3",
      "display_name": "Python 3"
    }
  },
  "cells": [
    {
      "cell_type": "code",
      "metadata": {
        "id": "6MtKDNT3ARAx",
        "colab": {
          "base_uri": "https://localhost:8080/"
        },
        "outputId": "56b9dfd8-1858-438d-9732-cfe0b4cfdb56"
      },
      "source": [
        "pwd"
      ],
      "execution_count": null,
      "outputs": [
        {
          "output_type": "execute_result",
          "data": {
            "text/plain": [
              "'C:\\\\Users\\\\Dell\\\\Desktop\\\\project data'"
            ]
          },
          "metadata": {
            "tags": []
          },
          "execution_count": 12
        }
      ]
    },
    {
      "cell_type": "code",
      "metadata": {
        "id": "6yGITUn8AZGj",
        "colab": {
          "base_uri": "https://localhost:8080/"
        },
        "outputId": "21d17ce3-6d12-4ab4-fde9-3c2dab293999"
      },
      "source": [
        "cd Users\\Dell\\Desktop\\project data"
      ],
      "execution_count": null,
      "outputs": [
        {
          "output_type": "stream",
          "text": [
            "[WinError 3] The system cannot find the path specified: 'Users\\\\Dell\\\\Desktop\\\\project data'\n",
            "C:\\Users\\Dell\\Desktop\\project data\n"
          ],
          "name": "stdout"
        }
      ]
    },
    {
      "cell_type": "code",
      "metadata": {
        "id": "xTitCkXhAbPh"
      },
      "source": [
        "import tkinter as tk\n",
        "from tkinter import *\n",
        "import cv2\n",
        "from PIL import Image, ImageTk\n",
        "import os\n",
        "import numpy as np\n",
        "import cv2\n",
        "from tensorflow.keras.models import Sequential\n",
        "from tensorflow.keras.layers import Dense, Dropout, Flatten\n",
        "from tensorflow.keras.layers import Conv2D\n",
        "from tensorflow.keras.optimizers import Adam\n",
        "from tensorflow.keras.layers import MaxPooling2D\n",
        "from tensorflow.keras.preprocessing.image import ImageDataGenerator\n",
        "\n",
        "emotion_model = Sequential()\n",
        "\n",
        "emotion_model.add(Conv2D(32, kernel_size=(3, 3), activation='relu', input_shape=(48,48,1)))\n",
        "emotion_model.add(Conv2D(64, kernel_size=(3, 3), activation='relu'))\n",
        "emotion_model.add(MaxPooling2D(pool_size=(2, 2)))\n",
        "emotion_model.add(Dropout(0.25))\n",
        "\n",
        "emotion_model.add(Conv2D(128, kernel_size=(3, 3), activation='relu'))\n",
        "emotion_model.add(MaxPooling2D(pool_size=(2, 2)))\n",
        "emotion_model.add(Conv2D(128, kernel_size=(3, 3), activation='relu'))\n",
        "emotion_model.add(MaxPooling2D(pool_size=(2, 2)))\n",
        "emotion_model.add(Dropout(0.25))\n",
        "\n",
        "emotion_model.add(Flatten())\n",
        "emotion_model.add(Dense(1024, activation='relu'))\n",
        "emotion_model.add(Dropout(0.5))\n",
        "emotion_model.add(Dense(7, activation='softmax'))\n",
        "emotion_model.load_weights('model.h5')\n",
        "\n"
      ],
      "execution_count": null,
      "outputs": []
    },
    {
      "cell_type": "code",
      "metadata": {
        "id": "ansf8xzNAdwx"
      },
      "source": [
        "emotion_dict = {0: \"   Angry   \", 1: \"Disgusted\", 2: \"  Fearful  \", 3: \"   Happy   \", 4: \"  Neutral  \", 5: \"    Sad    \", 6: \"Surprised\"}\n",
        "\n",
        "emoji_dist={0:\"./emojis/angry.png\",2:\"./emojis/disgusted.png\",2:\"./emojis/fearful.png\",3:\"./emojis/happy.png\",4:\"./emojis/neutral.png\",5:\"./emojis/sad.png\",6:\"./emojis/surpriced.jpg\"}\n",
        "\n",
        "show_text=[0]\n",
        "def show_vid():      \n",
        "                                   \n",
        "    img1=cv2.imread('test10.jpeg',1)\n",
        "    img1 = cv2.resize(img1,(600,500))\n",
        "    \n",
        "    bounding_box = cv2.CascadeClassifier('frontalface.xml')\n",
        "    gray_frame = cv2.cvtColor(img1, cv2.COLOR_BGR2GRAY)\n",
        "    num_faces = bounding_box.detectMultiScale(gray_frame,scaleFactor=1.3, minNeighbors=5)\n",
        "\n",
        "    for (x, y, w, h) in num_faces:\n",
        "        cv2.rectangle(img1, (x, y-50), (x+w, y+h+10), (255, 0, 0), 2)\n",
        "        roi_gray_frame = gray_frame[y:y + h, x:x + w]\n",
        "        cropped_img = np.expand_dims(np.expand_dims(cv2.resize(roi_gray_frame, (48, 48)), -1), 0)\n",
        "        prediction = emotion_model.predict(cropped_img)\n",
        "        \n",
        "        maxindex = int(np.argmax(prediction))\n",
        "        cv2.putText(img1, emotion_dict[maxindex], (x-20, y-60), cv2.FONT_HERSHEY_SIMPLEX, 1, (200, 0, 0), 2, cv2.LINE_AA)\n",
        "        show_text[0]=maxindex\n",
        "        pic = cv2.cvtColor(img1, cv2.COLOR_BGR2RGB)     \n",
        "        img = Image.fromarray(pic)\n",
        "        imgtk = ImageTk.PhotoImage(image=img)\n",
        "        lmain.imgtk = imgtk\n",
        "        lmain.configure(image=imgtk)\n",
        "        show_vid2()\n",
        "    if cv2.waitKey(1) & 0xFF == ord('q'):\n",
        "        exit()\n",
        "def quit():\n",
        "  root.destroy()\n",
        "def show_vid2():\n",
        "    emoji=cv2.imread(emoji_dist[show_text[0]])\n",
        "    img2=Image.fromarray(emoji)\n",
        "    imgtk2=ImageTk.PhotoImage(image=img2)\n",
        "    lmain2.imgtk2=imgtk2\n",
        "    lmain3.configure(text=emotion_dict[show_text[0]],font=('verdana',25,'bold'))\n",
        "    \n",
        "    lmain2.configure(image=imgtk2)\n",
        "\n",
        "if __name__ == '__main__':\n",
        "    root=tk.Tk()\n",
        "    img = ImageTk.PhotoImage(Image.open(\"logo.jpg\"))\n",
        "    heading = Label(root,image=img,bg='grey')\n",
        "    heading.pack() \n",
        "    heading2=Label(root,text=\"Photo to Emoji\",pady=20, font=('arial',25,'bold'),bg='black',fg='#CDCDCD')                                 \n",
        "    \n",
        "    heading2.pack()\n",
        "    lmain = tk.Label(master=root,padx=50,bd=10)\n",
        "    lmain2 = tk.Label(master=root,bd=10)\n",
        "\n",
        "    lmain3=tk.Label(master=root,bd=10,fg=\"#CDCDCD\",bg='black')\n",
        "    lmain.pack(side=LEFT)\n",
        "    lmain.place(x=50,y=250)\n",
        "    lmain3.pack()\n",
        "    lmain3.place(x=902,y=252)\n",
        "    lmain2.pack(side=RIGHT)\n",
        "    lmain2.place(x=900,y=250)\n",
        "    \n",
        "\n",
        "\n",
        "    root.title(\"Emoji Detector\")            \n",
        "    root.geometry(\"1400x900+100+10\") \n",
        "    root.attributes(\"-fullscreen\", True)\n",
        "    root['bg']='black'\n",
        "    exitbutton = Button(root, text='Quit',fg=\"red\",command=quit,font=('arial',25,'bold')).pack(side = BOTTOM)\n",
        "    show_vid()\n",
        "    root.mainloop()"
      ],
      "execution_count": null,
      "outputs": []
    },
    {
      "cell_type": "code",
      "metadata": {
        "id": "-lGsiKF7Bbbz"
      },
      "source": [
        ""
      ],
      "execution_count": null,
      "outputs": []
    }
  ]
}