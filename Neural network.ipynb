{
  "nbformat": 4,
  "nbformat_minor": 0,
  "metadata": {
    "colab": {
      "name": "project.ipynb",
      "provenance": []
    },
    "kernelspec": {
      "name": "python3",
      "display_name": "Python 3"
    },
    "accelerator": "GPU"
  },
  "cells": [
    {
      "cell_type": "code",
      "metadata": {
        "id": "jT-a2aFbKk6R",
        "colab": {
          "base_uri": "https://localhost:8080/"
        },
        "outputId": "e6f4c087-19f0-4643-8f1c-c4abc4b15486"
      },
      "source": [
        "pwd"
      ],
      "execution_count": null,
      "outputs": [
        {
          "output_type": "execute_result",
          "data": {
            "text/plain": [
              "'C:\\\\'"
            ]
          },
          "metadata": {
            "tags": []
          },
          "execution_count": 1
        }
      ]
    },
    {
      "cell_type": "code",
      "metadata": {
        "id": "31diMYmNM3yy",
        "colab": {
          "base_uri": "https://localhost:8080/"
        },
        "outputId": "61befaf4-0470-4a24-fd82-d050a19b422b"
      },
      "source": [
        "cd C:\\Users\\Dell\\Desktop\\project data\n"
      ],
      "execution_count": null,
      "outputs": [
        {
          "output_type": "stream",
          "text": [
            "C:\\Users\\Dell\\Desktop\\project data\n"
          ],
          "name": "stdout"
        }
      ]
    },
    {
      "cell_type": "code",
      "metadata": {
        "id": "ju1CAQqQM_Ky",
        "colab": {
          "base_uri": "https://localhost:8080/"
        },
        "outputId": "57837834-e93c-46b2-82ae-a347af872f0a"
      },
      "source": [
        "pwd"
      ],
      "execution_count": null,
      "outputs": [
        {
          "output_type": "execute_result",
          "data": {
            "text/plain": [
              "'C:\\\\Users\\\\Dell\\\\Desktop\\\\project data'"
            ]
          },
          "metadata": {
            "tags": []
          },
          "execution_count": 3
        }
      ]
    },
    {
      "cell_type": "code",
      "metadata": {
        "id": "kDmfGvbxNAkv",
        "colab": {
          "base_uri": "https://localhost:8080/"
        },
        "outputId": "65efdf47-8b2b-4b1e-8fca-0832d83b1f8b"
      },
      "source": [
        "import numpy as np\n",
        "import cv2\n",
        "import tensorflow as tf\n",
        "\n",
        "from tensorflow.keras.models import Sequential\n",
        "from tensorflow.keras.layers import Dense, Dropout, Flatten\n",
        "from tensorflow.keras.layers import Conv2D\n",
        "from tensorflow.keras.optimizers import Adam\n",
        "from tensorflow.keras.layers import MaxPooling2D\n",
        "from tensorflow.keras.preprocessing.image import ImageDataGenerator"
      ],
      "execution_count": null,
      "outputs": [
        {
          "output_type": "stream",
          "text": [
            "C:\\Users\\Dell\\anaconda3\\lib\\site-packages\\tensorflow\\python\\framework\\dtypes.py:516: FutureWarning: Passing (type, 1) or '1type' as a synonym of type is deprecated; in a future version of numpy, it will be understood as (type, (1,)) / '(1,)type'.\n",
            "  _np_qint8 = np.dtype([(\"qint8\", np.int8, 1)])\n",
            "C:\\Users\\Dell\\anaconda3\\lib\\site-packages\\tensorflow\\python\\framework\\dtypes.py:517: FutureWarning: Passing (type, 1) or '1type' as a synonym of type is deprecated; in a future version of numpy, it will be understood as (type, (1,)) / '(1,)type'.\n",
            "  _np_quint8 = np.dtype([(\"quint8\", np.uint8, 1)])\n",
            "C:\\Users\\Dell\\anaconda3\\lib\\site-packages\\tensorflow\\python\\framework\\dtypes.py:518: FutureWarning: Passing (type, 1) or '1type' as a synonym of type is deprecated; in a future version of numpy, it will be understood as (type, (1,)) / '(1,)type'.\n",
            "  _np_qint16 = np.dtype([(\"qint16\", np.int16, 1)])\n",
            "C:\\Users\\Dell\\anaconda3\\lib\\site-packages\\tensorflow\\python\\framework\\dtypes.py:519: FutureWarning: Passing (type, 1) or '1type' as a synonym of type is deprecated; in a future version of numpy, it will be understood as (type, (1,)) / '(1,)type'.\n",
            "  _np_quint16 = np.dtype([(\"quint16\", np.uint16, 1)])\n",
            "C:\\Users\\Dell\\anaconda3\\lib\\site-packages\\tensorflow\\python\\framework\\dtypes.py:520: FutureWarning: Passing (type, 1) or '1type' as a synonym of type is deprecated; in a future version of numpy, it will be understood as (type, (1,)) / '(1,)type'.\n",
            "  _np_qint32 = np.dtype([(\"qint32\", np.int32, 1)])\n",
            "C:\\Users\\Dell\\anaconda3\\lib\\site-packages\\tensorflow\\python\\framework\\dtypes.py:525: FutureWarning: Passing (type, 1) or '1type' as a synonym of type is deprecated; in a future version of numpy, it will be understood as (type, (1,)) / '(1,)type'.\n",
            "  np_resource = np.dtype([(\"resource\", np.ubyte, 1)])\n",
            "C:\\Users\\Dell\\anaconda3\\lib\\site-packages\\tensorboard\\compat\\tensorflow_stub\\dtypes.py:541: FutureWarning: Passing (type, 1) or '1type' as a synonym of type is deprecated; in a future version of numpy, it will be understood as (type, (1,)) / '(1,)type'.\n",
            "  _np_qint8 = np.dtype([(\"qint8\", np.int8, 1)])\n",
            "C:\\Users\\Dell\\anaconda3\\lib\\site-packages\\tensorboard\\compat\\tensorflow_stub\\dtypes.py:542: FutureWarning: Passing (type, 1) or '1type' as a synonym of type is deprecated; in a future version of numpy, it will be understood as (type, (1,)) / '(1,)type'.\n",
            "  _np_quint8 = np.dtype([(\"quint8\", np.uint8, 1)])\n",
            "C:\\Users\\Dell\\anaconda3\\lib\\site-packages\\tensorboard\\compat\\tensorflow_stub\\dtypes.py:543: FutureWarning: Passing (type, 1) or '1type' as a synonym of type is deprecated; in a future version of numpy, it will be understood as (type, (1,)) / '(1,)type'.\n",
            "  _np_qint16 = np.dtype([(\"qint16\", np.int16, 1)])\n",
            "C:\\Users\\Dell\\anaconda3\\lib\\site-packages\\tensorboard\\compat\\tensorflow_stub\\dtypes.py:544: FutureWarning: Passing (type, 1) or '1type' as a synonym of type is deprecated; in a future version of numpy, it will be understood as (type, (1,)) / '(1,)type'.\n",
            "  _np_quint16 = np.dtype([(\"quint16\", np.uint16, 1)])\n",
            "C:\\Users\\Dell\\anaconda3\\lib\\site-packages\\tensorboard\\compat\\tensorflow_stub\\dtypes.py:545: FutureWarning: Passing (type, 1) or '1type' as a synonym of type is deprecated; in a future version of numpy, it will be understood as (type, (1,)) / '(1,)type'.\n",
            "  _np_qint32 = np.dtype([(\"qint32\", np.int32, 1)])\n",
            "C:\\Users\\Dell\\anaconda3\\lib\\site-packages\\tensorboard\\compat\\tensorflow_stub\\dtypes.py:550: FutureWarning: Passing (type, 1) or '1type' as a synonym of type is deprecated; in a future version of numpy, it will be understood as (type, (1,)) / '(1,)type'.\n",
            "  np_resource = np.dtype([(\"resource\", np.ubyte, 1)])\n"
          ],
          "name": "stderr"
        }
      ]
    },
    {
      "cell_type": "code",
      "metadata": {
        "id": "FJH5t4yFNH9h",
        "colab": {
          "base_uri": "https://localhost:8080/"
        },
        "outputId": "02a421d7-dd70-46cb-8af8-4686ea45a8d1"
      },
      "source": [
        "train_dir = 'train'\n",
        "val_dir = 'test'\n",
        "train_datagen = ImageDataGenerator(rescale=1./255)\n",
        "val_datagen = ImageDataGenerator(rescale=1./255)\n",
        "\n",
        "train_generator = train_datagen.flow_from_directory(\n",
        "        train_dir,\n",
        "        target_size=(48,48),\n",
        "        batch_size=64,\n",
        "        color_mode=\"grayscale\",\n",
        "        class_mode='categorical')\n",
        "\n",
        "validation_generator = val_datagen.flow_from_directory(\n",
        "        val_dir,\n",
        "        target_size=(48,48),\n",
        "        batch_size=64,\n",
        "        color_mode=\"grayscale\",\n",
        "        class_mode='categorical')"
      ],
      "execution_count": null,
      "outputs": [
        {
          "output_type": "stream",
          "text": [
            "Found 28709 images belonging to 7 classes.\n",
            "Found 7178 images belonging to 7 classes.\n"
          ],
          "name": "stdout"
        }
      ]
    },
    {
      "cell_type": "code",
      "metadata": {
        "id": "uuoPdAmzN5-J",
        "colab": {
          "base_uri": "https://localhost:8080/"
        },
        "outputId": "4218ca82-3215-45cc-ae26-70da344b797b"
      },
      "source": [
        "emotion_model = Sequential()\n",
        "\n",
        "emotion_model.add(Conv2D(32, kernel_size=(3, 3), activation='relu', input_shape=(48,48,1)))\n",
        "emotion_model.add(Conv2D(64, kernel_size=(3, 3), activation='relu'))\n",
        "emotion_model.add(MaxPooling2D(pool_size=(2, 2)))\n",
        "emotion_model.add(Dropout(0.25))\n",
        "\n",
        "emotion_model.add(Conv2D(128, kernel_size=(3, 3), activation='relu'))\n",
        "emotion_model.add(MaxPooling2D(pool_size=(2, 2)))\n",
        "emotion_model.add(Conv2D(128, kernel_size=(3, 3), activation='relu'))\n",
        "emotion_model.add(MaxPooling2D(pool_size=(2, 2)))\n",
        "emotion_model.add(Dropout(0.25))\n",
        "\n",
        "emotion_model.add(Flatten())\n",
        "emotion_model.add(Dense(1024, activation='relu'))\n",
        "emotion_model.add(Dropout(0.5))\n",
        "emotion_model.add(Dense(7, activation='softmax'))\n"
      ],
      "execution_count": null,
      "outputs": [
        {
          "output_type": "stream",
          "text": [
            "WARNING:tensorflow:From C:\\Users\\Dell\\anaconda3\\lib\\site-packages\\tensorflow\\python\\ops\\init_ops.py:1251: calling VarianceScaling.__init__ (from tensorflow.python.ops.init_ops) with dtype is deprecated and will be removed in a future version.\n",
            "Instructions for updating:\n",
            "Call initializer instance with the dtype argument instead of passing it to the constructor\n"
          ],
          "name": "stdout"
        }
      ]
    },
    {
      "cell_type": "code",
      "metadata": {
        "colab": {
          "base_uri": "https://localhost:8080/"
        },
        "id": "A-sm0WBdeVgY",
        "outputId": "e33d9414-dd54-4287-9641-1326291e2e0b"
      },
      "source": [
        "emotion_model.summary()"
      ],
      "execution_count": null,
      "outputs": [
        {
          "output_type": "stream",
          "text": [
            "Model: \"sequential\"\n",
            "_________________________________________________________________\n",
            "Layer (type)                 Output Shape              Param #   \n",
            "=================================================================\n",
            "conv2d (Conv2D)              (None, 46, 46, 32)        320       \n",
            "_________________________________________________________________\n",
            "conv2d_1 (Conv2D)            (None, 44, 44, 64)        18496     \n",
            "_________________________________________________________________\n",
            "max_pooling2d (MaxPooling2D) (None, 22, 22, 64)        0         \n",
            "_________________________________________________________________\n",
            "dropout (Dropout)            (None, 22, 22, 64)        0         \n",
            "_________________________________________________________________\n",
            "conv2d_2 (Conv2D)            (None, 20, 20, 128)       73856     \n",
            "_________________________________________________________________\n",
            "max_pooling2d_1 (MaxPooling2 (None, 10, 10, 128)       0         \n",
            "_________________________________________________________________\n",
            "conv2d_3 (Conv2D)            (None, 8, 8, 128)         147584    \n",
            "_________________________________________________________________\n",
            "max_pooling2d_2 (MaxPooling2 (None, 4, 4, 128)         0         \n",
            "_________________________________________________________________\n",
            "dropout_1 (Dropout)          (None, 4, 4, 128)         0         \n",
            "_________________________________________________________________\n",
            "flatten (Flatten)            (None, 2048)              0         \n",
            "_________________________________________________________________\n",
            "dense (Dense)                (None, 1024)              2098176   \n",
            "_________________________________________________________________\n",
            "dropout_2 (Dropout)          (None, 1024)              0         \n",
            "_________________________________________________________________\n",
            "dense_1 (Dense)              (None, 7)                 7175      \n",
            "=================================================================\n",
            "Total params: 2,345,607\n",
            "Trainable params: 2,345,607\n",
            "Non-trainable params: 0\n",
            "_________________________________________________________________\n"
          ],
          "name": "stdout"
        }
      ]
    },
    {
      "cell_type": "code",
      "metadata": {
        "id": "5Mjisb_GOKpt",
        "colab": {
          "base_uri": "https://localhost:8080/"
        },
        "outputId": "f4589410-d7f4-473c-e630-74dc62112fa2"
      },
      "source": [
        "emotion_model.compile(loss='categorical_crossentropy',optimizer=Adam(lr=0.0001, decay=1e-6),metrics=['accuracy'])\n",
        "\n",
        "emotion_model_info = emotion_model.fit_generator(\n",
        "        train_generator,\n",
        "        steps_per_epoch=28709 // 64,\n",
        "        epochs=55,\n",
        "        validation_data=validation_generator,\n",
        "        validation_steps=7178 // 64,\n",
        "        )"
      ],
      "execution_count": null,
      "outputs": [
        {
          "output_type": "stream",
          "text": [
            "Epoch 1/55\n",
            "448/448 [==============================] - 221s 492ms/step - loss: 1.8039 - acc: 0.2589 - val_loss: 1.7118 - val_acc: 0.3398\n",
            "Epoch 2/55\n",
            "448/448 [==============================] - 233s 520ms/step - loss: 1.6311 - acc: 0.3676 - val_loss: 1.5465 - val_acc: 0.4159\n",
            "Epoch 3/55\n",
            "448/448 [==============================] - 222s 497ms/step - loss: 1.5219 - acc: 0.4157 - val_loss: 1.4468 - val_acc: 0.4489\n",
            "Epoch 4/55\n",
            "448/448 [==============================] - 220s 490ms/step - loss: 1.4422 - acc: 0.4496 - val_loss: 1.4009 - val_acc: 0.4682\n",
            "Epoch 5/55\n",
            "448/448 [==============================] - 218s 486ms/step - loss: 1.3763 - acc: 0.4786 - val_loss: 1.3224 - val_acc: 0.4972\n",
            "Epoch 6/55\n",
            "448/448 [==============================] - 218s 486ms/step - loss: 1.3253 - acc: 0.5001 - val_loss: 1.2944 - val_acc: 0.5098\n",
            "Epoch 7/55\n",
            "448/448 [==============================] - 223s 497ms/step - loss: 1.2848 - acc: 0.5137 - val_loss: 1.2678 - val_acc: 0.5204\n",
            "Epoch 8/55\n",
            "448/448 [==============================] - 225s 501ms/step - loss: 1.2406 - acc: 0.5287 - val_loss: 1.2317 - val_acc: 0.5275\n",
            "Epoch 9/55\n",
            "448/448 [==============================] - 223s 497ms/step - loss: 1.2167 - acc: 0.5418 - val_loss: 1.2159 - val_acc: 0.5371\n",
            "Epoch 10/55\n",
            "448/448 [==============================] - 219s 490ms/step - loss: 1.1851 - acc: 0.5527 - val_loss: 1.1817 - val_acc: 0.5485\n",
            "Epoch 11/55\n",
            "448/448 [==============================] - 220s 490ms/step - loss: 1.1549 - acc: 0.5678 - val_loss: 1.1797 - val_acc: 0.5543\n",
            "Epoch 12/55\n",
            "448/448 [==============================] - 223s 498ms/step - loss: 1.1269 - acc: 0.5736 - val_loss: 1.1499 - val_acc: 0.5611\n",
            "Epoch 13/55\n",
            "448/448 [==============================] - 221s 494ms/step - loss: 1.1018 - acc: 0.5853 - val_loss: 1.1321 - val_acc: 0.5664\n",
            "Epoch 14/55\n",
            "448/448 [==============================] - 226s 505ms/step - loss: 1.0786 - acc: 0.5966 - val_loss: 1.1320 - val_acc: 0.5718\n",
            "Epoch 15/55\n",
            "448/448 [==============================] - 227s 506ms/step - loss: 1.0483 - acc: 0.6091 - val_loss: 1.1256 - val_acc: 0.5758\n",
            "Epoch 16/55\n",
            "448/448 [==============================] - 231s 515ms/step - loss: 1.0268 - acc: 0.6174 - val_loss: 1.1191 - val_acc: 0.5737\n",
            "Epoch 17/55\n",
            "448/448 [==============================] - 228s 509ms/step - loss: 1.0069 - acc: 0.6261 - val_loss: 1.0954 - val_acc: 0.5880\n",
            "Epoch 18/55\n",
            "448/448 [==============================] - 229s 510ms/step - loss: 0.9817 - acc: 0.6361 - val_loss: 1.0963 - val_acc: 0.5868\n",
            "Epoch 19/55\n",
            "448/448 [==============================] - 225s 502ms/step - loss: 0.9638 - acc: 0.6417 - val_loss: 1.0870 - val_acc: 0.5894\n",
            "Epoch 20/55\n",
            "448/448 [==============================] - 188s 421ms/step - loss: 0.9328 - acc: 0.6547 - val_loss: 1.0761 - val_acc: 0.5964\n",
            "Epoch 21/55\n",
            "448/448 [==============================] - 192s 428ms/step - loss: 0.9130 - acc: 0.6607 - val_loss: 1.0808 - val_acc: 0.5989\n",
            "Epoch 22/55\n",
            "448/448 [==============================] - 185s 412ms/step - loss: 0.8867 - acc: 0.6714 - val_loss: 1.0686 - val_acc: 0.6032\n",
            "Epoch 23/55\n",
            "448/448 [==============================] - 185s 413ms/step - loss: 0.8604 - acc: 0.6857 - val_loss: 1.0730 - val_acc: 0.6048\n",
            "Epoch 24/55\n",
            "448/448 [==============================] - 187s 418ms/step - loss: 0.8416 - acc: 0.6910 - val_loss: 1.0694 - val_acc: 0.6077\n",
            "Epoch 25/55\n",
            "448/448 [==============================] - 192s 428ms/step - loss: 0.8195 - acc: 0.6990 - val_loss: 1.0646 - val_acc: 0.6073\n",
            "Epoch 26/55\n",
            "448/448 [==============================] - 185s 412ms/step - loss: 0.7938 - acc: 0.7090 - val_loss: 1.0671 - val_acc: 0.6062\n",
            "Epoch 27/55\n",
            "448/448 [==============================] - 184s 410ms/step - loss: 0.7655 - acc: 0.7205 - val_loss: 1.0688 - val_acc: 0.6077\n",
            "Epoch 28/55\n",
            "448/448 [==============================] - 187s 418ms/step - loss: 0.7508 - acc: 0.7260 - val_loss: 1.0673 - val_acc: 0.6130\n",
            "Epoch 29/55\n",
            "448/448 [==============================] - 192s 428ms/step - loss: 0.7289 - acc: 0.7351 - val_loss: 1.0627 - val_acc: 0.6144\n",
            "Epoch 30/55\n",
            "448/448 [==============================] - 197s 439ms/step - loss: 0.7035 - acc: 0.7436 - val_loss: 1.0719 - val_acc: 0.6158\n",
            "Epoch 31/55\n",
            "448/448 [==============================] - 192s 429ms/step - loss: 0.6860 - acc: 0.7512 - val_loss: 1.0687 - val_acc: 0.6140\n",
            "Epoch 32/55\n",
            "448/448 [==============================] - 192s 429ms/step - loss: 0.6662 - acc: 0.7557 - val_loss: 1.0821 - val_acc: 0.6166\n",
            "Epoch 33/55\n",
            "448/448 [==============================] - 189s 421ms/step - loss: 0.6426 - acc: 0.7643 - val_loss: 1.0781 - val_acc: 0.6129\n",
            "Epoch 34/55\n",
            "448/448 [==============================] - 189s 422ms/step - loss: 0.6138 - acc: 0.7756 - val_loss: 1.1059 - val_acc: 0.6130\n",
            "Epoch 35/55\n",
            "448/448 [==============================] - 190s 423ms/step - loss: 0.6014 - acc: 0.7850 - val_loss: 1.0944 - val_acc: 0.6211\n",
            "Epoch 36/55\n",
            "448/448 [==============================] - 186s 416ms/step - loss: 0.5801 - acc: 0.7896 - val_loss: 1.0830 - val_acc: 0.6212\n",
            "Epoch 37/55\n",
            "448/448 [==============================] - 192s 428ms/step - loss: 0.5679 - acc: 0.7913 - val_loss: 1.1080 - val_acc: 0.6193\n",
            "Epoch 38/55\n",
            "448/448 [==============================] - 187s 418ms/step - loss: 0.5350 - acc: 0.8077 - val_loss: 1.1218 - val_acc: 0.6229\n",
            "Epoch 39/55\n",
            "448/448 [==============================] - 183s 408ms/step - loss: 0.5270 - acc: 0.8093 - val_loss: 1.1190 - val_acc: 0.6169\n",
            "Epoch 40/55\n",
            "448/448 [==============================] - 190s 424ms/step - loss: 0.5014 - acc: 0.8187 - val_loss: 1.1326 - val_acc: 0.6201\n",
            "Epoch 41/55\n",
            "448/448 [==============================] - 190s 425ms/step - loss: 0.4933 - acc: 0.8220 - val_loss: 1.1318 - val_acc: 0.6260\n",
            "Epoch 42/55\n",
            "448/448 [==============================] - 190s 423ms/step - loss: 0.4737 - acc: 0.8292 - val_loss: 1.1354 - val_acc: 0.6207\n",
            "Epoch 43/55\n",
            "448/448 [==============================] - 189s 421ms/step - loss: 0.4606 - acc: 0.8353 - val_loss: 1.1560 - val_acc: 0.6242\n",
            "Epoch 44/55\n",
            "448/448 [==============================] - 209s 466ms/step - loss: 0.4417 - acc: 0.8424 - val_loss: 1.1666 - val_acc: 0.6232\n",
            "Epoch 45/55\n",
            "448/448 [==============================] - 215s 481ms/step - loss: 0.4358 - acc: 0.8429 - val_loss: 1.1773 - val_acc: 0.6228\n",
            "Epoch 46/55\n",
            "448/448 [==============================] - 224s 500ms/step - loss: 0.4150 - acc: 0.8499 - val_loss: 1.1759 - val_acc: 0.6205\n",
            "Epoch 47/55\n",
            "448/448 [==============================] - 225s 503ms/step - loss: 0.3985 - acc: 0.8570 - val_loss: 1.1929 - val_acc: 0.6277\n",
            "Epoch 48/55\n",
            "448/448 [==============================] - 223s 497ms/step - loss: 0.3863 - acc: 0.8594 - val_loss: 1.2072 - val_acc: 0.6194\n",
            "Epoch 49/55\n",
            "448/448 [==============================] - 225s 502ms/step - loss: 0.3782 - acc: 0.8647 - val_loss: 1.1828 - val_acc: 0.6240\n",
            "Epoch 50/55\n",
            "448/448 [==============================] - 230s 514ms/step - loss: 0.3647 - acc: 0.8683 - val_loss: 1.2226 - val_acc: 0.6258\n",
            "Epoch 51/55\n",
            "448/448 [==============================] - 226s 505ms/step - loss: 0.3612 - acc: 0.8698 - val_loss: 1.2172 - val_acc: 0.6247\n",
            "Epoch 52/55\n",
            "448/448 [==============================] - 223s 498ms/step - loss: 0.3502 - acc: 0.8731 - val_loss: 1.2263 - val_acc: 0.6278\n",
            "Epoch 53/55\n",
            "448/448 [==============================] - 222s 497ms/step - loss: 0.3404 - acc: 0.8797 - val_loss: 1.2299 - val_acc: 0.6270\n",
            "Epoch 54/55\n",
            "448/448 [==============================] - 222s 495ms/step - loss: 0.3299 - acc: 0.8824 - val_loss: 1.2311 - val_acc: 0.6271\n",
            "Epoch 55/55\n",
            "448/448 [==============================] - 226s 504ms/step - loss: 0.3167 - acc: 0.8860 - val_loss: 1.2556 - val_acc: 0.6282\n"
          ],
          "name": "stdout"
        }
      ]
    },
    {
      "cell_type": "code",
      "metadata": {
        "id": "CYpZTfACOONj"
      },
      "source": [
        "emotion_model.save_weights('model.h5')"
      ],
      "execution_count": null,
      "outputs": []
    },
    {
      "cell_type": "code",
      "metadata": {
        "id": "d4EnILwe4fIV"
      },
      "source": [
        "emotion_model.save('model1.h5')\n"
      ],
      "execution_count": null,
      "outputs": []
    },
    {
      "cell_type": "code",
      "metadata": {
        "id": "N0oi67Jxq_v1"
      },
      "source": [
        ""
      ],
      "execution_count": null,
      "outputs": []
    }
  ]
}
